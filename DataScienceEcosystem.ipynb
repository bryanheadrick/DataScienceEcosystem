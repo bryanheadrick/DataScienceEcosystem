{
 "cells": [
  {
   "cell_type": "markdown",
   "id": "9881ae83-7723-469c-8062-ce0ddcd49169",
   "metadata": {},
   "source": [
    "#Data Science Tools and Ecosystem#"
   ]
  },
  {
   "attachments": {},
   "cell_type": "markdown",
   "id": "a191b7e3-25b3-4820-ab99-ec0e0e4977fd",
   "metadata": {},
   "source": [
    "In this notebook, Data Science Tools and Ecosystem are summarized.\n"
   ]
  },
  {
   "cell_type": "markdown",
   "id": "1eba5ead-747a-4513-bd3f-81d09a2bed13",
   "metadata": {},
   "source": [
    "Some of the popular languages that Data Scientists use are:\n",
    " - Python\n",
    " - R\n",
    " - C++\n"
   ]
  },
  {
   "cell_type": "markdown",
   "id": "9c8dc150-1960-45d7-94ca-7d74605902d3",
   "metadata": {},
   "source": [
    "Some of the commonly used libraries used by Data Scientists include:\n",
    " 1. Pandas\n",
    " 2. TensorFlow\n",
    " 3. Matplotlib \n"
   ]
  },
  {
   "cell_type": "markdown",
   "id": "86a2babe-12ea-425e-b595-8877a09f13f7",
   "metadata": {},
   "source": [
    "|  Data Science Tools  |\n",
    "|  ------------------  |\n",
    "|  RStudio    |\n",
    "|  Jupyter    |\n",
    "|  Apache Spark    |"
   ]
  },
  {
   "cell_type": "markdown",
   "id": "2b28476b-a56b-48bb-af11-cd767efc65f3",
   "metadata": {},
   "source": [
    "### Below are a few examples of evaluating arithmetic expressions in Python. ###"
   ]
  },
  {
   "cell_type": "code",
   "execution_count": 1,
   "id": "93d24255-9b4c-4bde-9240-170a14c13854",
   "metadata": {},
   "outputs": [
    {
     "data": {
      "text/plain": [
       "17"
      ]
     },
     "execution_count": 1,
     "metadata": {},
     "output_type": "execute_result"
    }
   ],
   "source": [
    "# This a simple arithmetic expression to mutiply then add integers.\n",
    "(3*4)+5"
   ]
  },
  {
   "cell_type": "code",
   "execution_count": 2,
   "id": "5b1ce4d9-5f17-4da8-9655-7f5aa880fcd4",
   "metadata": {},
   "outputs": [
    {
     "data": {
      "text/plain": [
       "3.3333333333333335"
      ]
     },
     "execution_count": 2,
     "metadata": {},
     "output_type": "execute_result"
    }
   ],
   "source": [
    "#This will convert 200 minutes to hours by diving by 60\n",
    "200/60"
   ]
  },
  {
   "cell_type": "markdown",
   "id": "8146f4d4-da8c-4b8f-9c00-07b053566fd3",
   "metadata": {},
   "source": [
    "__Objectives:__\n",
    " - List popular languages for Data Science\n",
    " - Create a code cell to multiply and add numbers\n",
    " - Create a markdown cell to list data science libraries"
   ]
  },
  {
   "cell_type": "markdown",
   "id": "d25e09a5-f7e0-4dc4-9da0-2184dcb747e5",
   "metadata": {},
   "source": [
    "## Author ##\n",
    "Bryan Headrick"
   ]
  }
 ],
 "metadata": {
  "kernelspec": {
   "display_name": "Python 3 (ipykernel)",
   "language": "python",
   "name": "python3"
  },
  "language_info": {
   "codemirror_mode": {
    "name": "ipython",
    "version": 3
   },
   "file_extension": ".py",
   "mimetype": "text/x-python",
   "name": "python",
   "nbconvert_exporter": "python",
   "pygments_lexer": "ipython3",
   "version": "3.12.3"
  }
 },
 "nbformat": 4,
 "nbformat_minor": 5
}
